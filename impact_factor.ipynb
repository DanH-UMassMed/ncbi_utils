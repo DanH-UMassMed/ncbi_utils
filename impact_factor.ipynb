{
 "cells": [
  {
   "cell_type": "markdown",
   "metadata": {},
   "source": [
    "# Get Impact Factors for Journals\n",
    "\n",
    "* Read the Imapct Factor datbase (2021)\n",
    "* Match with Journals that we will be using to find Conference Papers   "
   ]
  },
  {
   "cell_type": "code",
   "execution_count": null,
   "metadata": {},
   "outputs": [],
   "source": [
    "import pandas as pd"
   ]
  },
  {
   "cell_type": "code",
   "execution_count": null,
   "metadata": {},
   "outputs": [],
   "source": [
    "impact_factor_f = '2022_JCR_IF.csv'\n",
    "impact_factor_df = pd.read_csv(impact_factor_f)\n",
    "\n",
    "print(impact_factor_df.columns)"
   ]
  },
  {
   "cell_type": "code",
   "execution_count": null,
   "metadata": {},
   "outputs": [],
   "source": [
    "out_journals_f = 'out_journals_query.csv'\n",
    "out_journals_df = pd.read_csv(out_journals_f)\n",
    "\n",
    "print(out_journals_df.columns)"
   ]
  },
  {
   "cell_type": "code",
   "execution_count": null,
   "metadata": {},
   "outputs": [],
   "source": [
    "# Filter out rows with null values in 'ISSN' and '2021 JIF' columns in impact_factor_df\n",
    "impact_factor_issn = impact_factor_df[['ISSN', '2021 JIF']].dropna(subset=['ISSN', '2021 JIF'])\n",
    "impact_factor_eissn = impact_factor_df[['eISSN', '2021 JIF']].dropna(subset=['eISSN', '2021 JIF'])\n",
    "\n",
    "# Create a dictionary mapping 'ISSN' to '2021 JIF'\n",
    "issn_jif_mapping = dict(zip(impact_factor_issn['ISSN'], impact_factor_issn['2021 JIF']))\n",
    "eissn_jif_mapping = dict(zip(impact_factor_eissn['eISSN'], impact_factor_eissn['2021 JIF']))\n",
    "\n",
    "# Map '2021 JIF' from impact_factor_df to out_journals_df based on matching ISSN\n",
    "out_journals_df['ISSN_JIF'] = out_journals_df['issn'].map(issn_jif_mapping)\n",
    "out_journals_df['eISSN_JIF'] = out_journals_df['eissn'].map(eissn_jif_mapping)\n",
    "\n",
    "out_journals_df['JIF'] = out_journals_df[['ISSN_JIF', 'eISSN_JIF']].max(axis=1)\n",
    "out_journals_df.drop(['ISSN_JIF', 'eISSN_JIF'], axis=1, inplace=True)\n",
    "\n",
    "out_journals_df.head(40)"
   ]
  },
  {
   "cell_type": "code",
   "execution_count": null,
   "metadata": {},
   "outputs": [],
   "source": []
  }
 ],
 "metadata": {
  "kernelspec": {
   "display_name": "aws-dev",
   "language": "python",
   "name": "python3"
  },
  "language_info": {
   "codemirror_mode": {
    "name": "ipython",
    "version": 3
   },
   "file_extension": ".py",
   "mimetype": "text/x-python",
   "name": "python",
   "nbconvert_exporter": "python",
   "pygments_lexer": "ipython3",
   "version": "3.8.13"
  }
 },
 "nbformat": 4,
 "nbformat_minor": 2
}
